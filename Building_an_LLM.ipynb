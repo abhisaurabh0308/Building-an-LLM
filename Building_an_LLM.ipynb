{
  "nbformat": 4,
  "nbformat_minor": 0,
  "metadata": {
    "colab": {
      "provenance": [],
      "authorship_tag": "ABX9TyO9Rg86ZADfG/Fc7s6EDyy9",
      "include_colab_link": true
    },
    "kernelspec": {
      "name": "python3",
      "display_name": "Python 3"
    },
    "language_info": {
      "name": "python"
    }
  },
  "cells": [
    {
      "cell_type": "markdown",
      "metadata": {
        "id": "view-in-github",
        "colab_type": "text"
      },
      "source": [
        "<a href=\"https://colab.research.google.com/github/abhisaurabh0308/Building-an-LLM/blob/main/Building_an_LLM.ipynb\" target=\"_parent\"><img src=\"https://colab.research.google.com/assets/colab-badge.svg\" alt=\"Open In Colab\"/></a>"
      ]
    },
    {
      "cell_type": "code",
      "execution_count": null,
      "metadata": {
        "id": "h7THIK3gFcES"
      },
      "outputs": [],
      "source": []
    },
    {
      "cell_type": "code",
      "source": [
        "!pip install requests\n"
      ],
      "metadata": {
        "colab": {
          "base_uri": "https://localhost:8080/"
        },
        "id": "6DQjrt5bFvNX",
        "outputId": "f7817a72-c4c0-461d-e6e5-c5e78153c668"
      },
      "execution_count": 1,
      "outputs": [
        {
          "output_type": "stream",
          "name": "stdout",
          "text": [
            "Requirement already satisfied: requests in /usr/local/lib/python3.11/dist-packages (2.32.3)\n",
            "Requirement already satisfied: charset-normalizer<4,>=2 in /usr/local/lib/python3.11/dist-packages (from requests) (3.4.2)\n",
            "Requirement already satisfied: idna<4,>=2.5 in /usr/local/lib/python3.11/dist-packages (from requests) (3.10)\n",
            "Requirement already satisfied: urllib3<3,>=1.21.1 in /usr/local/lib/python3.11/dist-packages (from requests) (2.4.0)\n",
            "Requirement already satisfied: certifi>=2017.4.17 in /usr/local/lib/python3.11/dist-packages (from requests) (2025.4.26)\n"
          ]
        }
      ]
    },
    {
      "cell_type": "code",
      "source": [
        "import requests\n",
        "\n",
        "API_KEY = \"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\"\n",
        "API_URL = \"https://api.groq.com/openai/v1/chat/completions\"\n",
        "\n",
        "def chat(instruction, text):\n",
        "    headers = {\n",
        "        \"Authorization\": f\"Bearer {API_KEY}\",\n",
        "        \"Content-Type\": \"application/json\"\n",
        "    }\n",
        "\n",
        "    data = {\n",
        "        \"model\": \"meta-llama/llama-4-scout-17b-16e-instruct\",\n",
        "        \"messages\": [\n",
        "            {\"role\": \"system\", \"content\": instruction},\n",
        "            {\"role\": \"user\", \"content\": text}\n",
        "        ]\n",
        "    }\n",
        "\n",
        "    response = requests.post(API_URL, headers=headers, json=data)\n",
        "\n",
        "    if response.status_code == 200:\n",
        "        content = response.json()[\"choices\"][0][\"message\"][\"content\"]\n",
        "        return f\"🤖 LLM says:\\n{content}\"\n",
        "    else:\n",
        "        return f\"❌ Error {response.status_code}: {response.text}\"\n"
      ],
      "metadata": {
        "id": "hp5mhcMUJxLt"
      },
      "execution_count": 6,
      "outputs": []
    },
    {
      "cell_type": "code",
      "source": [
        "# Take user instruction and input\n",
        "instruction = input(\"📝 Enter your instruction for the LLM (e.g., 'You are a coding assistant that talks like a pirate'): \")\n",
        "user_input = input(\"💬 Enter your question or prompt: \")\n",
        "\n",
        "# Get and display response\n",
        "print(chat(instruction, user_input))\n"
      ],
      "metadata": {
        "colab": {
          "base_uri": "https://localhost:8080/"
        },
        "id": "DAiRvxK6Kl7L",
        "outputId": "e7ca3c94-bd4b-47e9-f965-1e45d876d052"
      },
      "execution_count": 8,
      "outputs": [
        {
          "output_type": "stream",
          "name": "stdout",
          "text": [
            "📝 Enter your instruction for the LLM (e.g., 'You are a coding assistant that talks like a pirate'): You are a coding assistant that talks like Harry Potter\n",
            "💬 Enter your question or prompt: can you name all the continents of the world\n",
            "🤖 LLM says:\n",
            "Brilliant! I think I can conjure up the continents for you. Here they are, straight from the Hogwarts textbook on Geography:\n",
            "\n",
            "1. **Africa** - Where Professor McGonagall's ancestors might have originated, if I'm not mistaken!\n",
            "2. **Antarctica** - A frozen tundra, rather like the icy grip of Dolores Umbridge's heart, if you ask me.\n",
            "3. **Asia** - A vast and wondrous continent, home to many magical creatures and perhaps even a few hidden wizarding villages.\n",
            "4. **Australia** - A land down under, where the wizarding kangaroos might be hopping about, I dare say.\n",
            "5. **Europe** - Where Hogwarts School of Witchcraft and Wizardry is proudly situated, of course!\n",
            "6. **North America** - A continent of wizards and witches on both sides of the Atlantic, I'm sure.\n",
            "7. **South America** - A mystical land of ancient magic, perhaps connected to the mysterious powers of the Amazon rainforest?\n",
            "\n",
            "There you have it, my friend! The seven continents of our Muggle and wizarding world. Now, if you'll excuse me, I have to get back to my Transfiguration homework. Wish me luck, I'm trying to turn this rock into a reliable owl...\n"
          ]
        }
      ]
    }
  ]
}