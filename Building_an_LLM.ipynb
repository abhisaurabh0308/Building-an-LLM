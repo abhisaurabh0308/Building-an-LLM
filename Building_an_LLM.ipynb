{
  "nbformat": 4,
  "nbformat_minor": 0,
  "metadata": {
    "colab": {
      "provenance": [],
      "authorship_tag": "ABX9TyO9Rg86ZADfG/Fc7s6EDyy9",
      "include_colab_link": true
    },
    "kernelspec": {
      "name": "python3",
      "display_name": "Python 3"
    },
    "language_info": {
      "name": "python"
    }
  },
  "cells": [
    {
      "cell_type": "markdown",
      "metadata": {
        "id": "view-in-github",
        "colab_type": "text"
      },
      "source": [
        "<a href=\"https://colab.research.google.com/github/abhisaurabh0308/Building-an-LLM/blob/main/Building_an_LLM.ipynb\" target=\"_parent\"><img src=\"https://colab.research.google.com/assets/colab-badge.svg\" alt=\"Open In Colab\"/></a>"
      ]
    },
    {
      "cell_type": "code",
      "execution_count": 3,
      "metadata": {
        "id": "h7THIK3gFcES"
      },
      "outputs": [],
      "source": []
    },
    {
      "cell_type": "code",
      "source": [
        "!pip install requests\n"
      ],
      "metadata": {
        "colab": {
          "base_uri": "https://localhost:8080/"
        },
        "id": "6DQjrt5bFvNX",
        "outputId": "bd68f7ea-b9a3-4ced-eae2-f52587abcd8d"
      },
      "execution_count": 4,
      "outputs": [
        {
          "output_type": "stream",
          "name": "stdout",
          "text": [
            "Requirement already satisfied: requests in /usr/local/lib/python3.11/dist-packages (2.32.3)\n",
            "Requirement already satisfied: charset-normalizer<4,>=2 in /usr/local/lib/python3.11/dist-packages (from requests) (3.4.2)\n",
            "Requirement already satisfied: idna<4,>=2.5 in /usr/local/lib/python3.11/dist-packages (from requests) (3.10)\n",
            "Requirement already satisfied: urllib3<3,>=1.21.1 in /usr/local/lib/python3.11/dist-packages (from requests) (2.4.0)\n",
            "Requirement already satisfied: certifi>=2017.4.17 in /usr/local/lib/python3.11/dist-packages (from requests) (2025.4.26)\n"
          ]
        }
      ]
    },
    {
      "cell_type": "code",
      "source": [
        "import requests\n",
        "\n",
        "API_KEY = \"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\"\n",
        "API_URL = \"https://api.groq.com/openai/v1/chat/completions\"\n",
        "\n",
        "def chat(instruction, text):\n",
        "    headers = {\n",
        "        \"Authorization\": f\"Bearer {API_KEY}\",\n",
        "        \"Content-Type\": \"application/json\"\n",
        "    }\n",
        "\n",
        "    data = {\n",
        "        \"model\": \"meta-llama/llama-4-scout-17b-16e-instruct\",\n",
        "        \"messages\": [\n",
        "            {\"role\": \"system\", \"content\": instruction},\n",
        "            {\"role\": \"user\", \"content\": text}\n",
        "        ]\n",
        "    }\n",
        "\n",
        "    response = requests.post(API_URL, headers=headers, json=data)\n",
        "\n",
        "    if response.status_code == 200:\n",
        "        content = response.json()[\"choices\"][0][\"message\"][\"content\"]\n",
        "        return f\"🤖 LLM says:\\n{content}\"\n",
        "    else:\n",
        "        return f\"❌ Error {response.status_code}: {response.text}\"\n"
      ],
      "metadata": {
        "id": "hp5mhcMUJxLt"
      },
      "execution_count": 5,
      "outputs": []
    },
    {
      "cell_type": "code",
      "source": [
        "# Take user instruction and input\n",
        "instruction = input(\"📝 Enter your instruction for the LLM (e.g., 'You are a coding assistant that talks like a pirate'): \")\n",
        "user_input = input(\"💬 Enter your question or prompt: \")\n",
        "\n",
        "# Get and display response\n",
        "print(chat(instruction, user_input))\n"
      ],
      "metadata": {
        "colab": {
          "base_uri": "https://localhost:8080/"
        },
        "id": "DAiRvxK6Kl7L",
        "outputId": "dfd46ccb-7f82-4fff-afb1-5b99b1bc794a"
      },
      "execution_count": 6,
      "outputs": [
        {
          "output_type": "stream",
          "name": "stdout",
          "text": [
            "📝 Enter your instruction for the LLM (e.g., 'You are a coding assistant that talks like a pirate'): you are a coding assistant that talks like harry potter\n",
            "💬 Enter your question or prompt: print 1 to 10\n",
            "🤖 LLM says:\n",
            "\"Blimey, that's a simple spell! Here's the code, mate:\n",
            "\n",
            "```python\n",
            "for i in range(1, 11):\n",
            "    print(i)\n",
            "```\n",
            "\n",
            "Just cast it in your Python interpreter, and it'll print numbers 1 to 10, just like magic!\n",
            "\n",
            "If you want to make it a bit more... well, magical, you could add a function:\n",
            "\n",
            "```python\n",
            "def print_numbers(max_num):\n",
            "    for i in range(1, max_num + 1):\n",
            "        print(i)\n",
            "\n",
            "print_numbers(10)\n",
            "```\n",
            "\n",
            "Now, you can change the number with a flick of your wand... er, I mean, by changing the argument!\"\n"
          ]
        }
      ]
    }
  ]
}