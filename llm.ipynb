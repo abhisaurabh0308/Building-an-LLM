{
  "nbformat": 4,
  "nbformat_minor": 0,
  "metadata": {
    "colab": {
      "provenance": [],
      "authorship_tag": "ABX9TyMOI1Huhv00AMo3x0P6pbAn",
      "include_colab_link": true
    },
    "kernelspec": {
      "name": "python3",
      "display_name": "Python 3"
    },
    "language_info": {
      "name": "python"
    }
  },
  "cells": [
    {
      "cell_type": "markdown",
      "metadata": {
        "id": "view-in-github",
        "colab_type": "text"
      },
      "source": [
        "<a href=\"https://colab.research.google.com/github/abhisaurabh0308/Building-an-LLM/blob/main/llm.ipynb\" target=\"_parent\"><img src=\"https://colab.research.google.com/assets/colab-badge.svg\" alt=\"Open In Colab\"/></a>"
      ]
    },
    {
      "cell_type": "code",
      "execution_count": 141,
      "metadata": {
        "colab": {
          "base_uri": "https://localhost:8080/"
        },
        "id": "ibh0tvETSuvx",
        "outputId": "0883e2a2-678c-4324-8c00-2c9d0a749cce"
      },
      "outputs": [
        {
          "output_type": "stream",
          "name": "stdout",
          "text": [
            "Requirement already satisfied: requests in /usr/local/lib/python3.11/dist-packages (2.32.3)\n",
            "Requirement already satisfied: gTTS in /usr/local/lib/python3.11/dist-packages (2.5.4)\n",
            "Requirement already satisfied: charset-normalizer<4,>=2 in /usr/local/lib/python3.11/dist-packages (from requests) (3.4.2)\n",
            "Requirement already satisfied: idna<4,>=2.5 in /usr/local/lib/python3.11/dist-packages (from requests) (3.10)\n",
            "Requirement already satisfied: urllib3<3,>=1.21.1 in /usr/local/lib/python3.11/dist-packages (from requests) (2.4.0)\n",
            "Requirement already satisfied: certifi>=2017.4.17 in /usr/local/lib/python3.11/dist-packages (from requests) (2025.4.26)\n",
            "Requirement already satisfied: click<8.2,>=7.1 in /usr/local/lib/python3.11/dist-packages (from gTTS) (8.1.8)\n"
          ]
        }
      ],
      "source": [
        "!pip install requests gTTS\n",
        "from IPython.display import Audio\n"
      ]
    },
    {
      "cell_type": "code",
      "source": [
        "import requests\n",
        "from gtts import gTTS\n",
        "from IPython.display import Audio\n",
        "import os\n"
      ],
      "metadata": {
        "id": "qd4dIXM3S53w"
      },
      "execution_count": 142,
      "outputs": []
    },
    {
      "cell_type": "code",
      "source": [
        "# 🔑 Your API Keys (Replace with real ones)\n",
        "LLM_API_KEY = \"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\"\n",
        "WEATHER_API_KEY = \"ca40e674dfb12f4c2594108ae26161f4\"\n",
        "\n",
        "LLM_API_URL = \"https://api.groq.com/openai/v1/chat/completions\"\n"
      ],
      "metadata": {
        "id": "Nk0yEMBPTAE1"
      },
      "execution_count": 143,
      "outputs": []
    },
    {
      "cell_type": "code",
      "source": [
        "def get_weather(city):\n",
        "    url = f\"http://api.openweathermap.org/data/2.5/weather?q={city}&appid={WEATHER_API_KEY}&units=metric\"\n",
        "    response = requests.get(url)\n",
        "    if response.status_code == 200:\n",
        "        data = response.json()\n",
        "        weather_desc = data[\"weather\"][0][\"description\"]\n",
        "        temp = data[\"main\"][\"temp\"]\n",
        "        return f\"The current weather in {city} is {weather_desc} with a temperature of {temp}°C.\"\n",
        "    else:\n",
        "        print(\"🔎 API Raw Response:\", response.text)  # 👈 Add this\n",
        "        return f\"Couldn't fetch the weather for {city}. Please check the city name.\"\n"
      ],
      "metadata": {
        "id": "ArnE3qWqTHDV"
      },
      "execution_count": 144,
      "outputs": []
    },
    {
      "cell_type": "code",
      "source": [
        "def get_llm_reply(instruction, user_input):\n",
        "    headers = {\n",
        "        \"Authorization\": f\"Bearer {LLM_API_KEY}\",\n",
        "        \"Content-Type\": \"application/json\"\n",
        "    }\n",
        "\n",
        "    data = {\n",
        "        \"model\": \"meta-llama/llama-4-scout-17b-16e-instruct\",\n",
        "        \"messages\": [\n",
        "            {\"role\": \"system\", \"content\": instruction},\n",
        "            {\"role\": \"user\", \"content\": user_input}\n",
        "        ]\n",
        "    }\n",
        "\n",
        "    response = requests.post(LLM_API_URL, headers=headers, json=data)\n",
        "\n",
        "    if response.status_code == 200:\n",
        "        return response.json()[\"choices\"][0][\"message\"][\"content\"]\n",
        "    else:\n",
        "        return f\"Error {response.status_code}: {response.text}\"\n"
      ],
      "metadata": {
        "id": "W9qsCE7mTLt_"
      },
      "execution_count": 145,
      "outputs": []
    },
    {
      "cell_type": "code",
      "source": [
        "def speak(text):\n",
        "    tts = gTTS(text=text, lang='en')\n",
        "    tts.save(\"output.mp3\")\n",
        "    return Audio(\"output.mp3\", autoplay=True)\n"
      ],
      "metadata": {
        "id": "E-xE-GKNTPO2"
      },
      "execution_count": 146,
      "outputs": []
    },
    {
      "cell_type": "code",
      "source": [
        "def chat(instruction, user_input):\n",
        "    if \"weather\" in user_input.lower():\n",
        "        # Safely extract and format city name\n",
        "        try:\n",
        "            city = user_input.lower().split(\"in\")[-1].strip().title()\n",
        "            reply = get_weather(city)\n",
        "        except:\n",
        "            reply = \"Sorry, I couldn't understand the city name.\"\n",
        "    else:\n",
        "        reply = get_llm_reply(instruction, user_input)\n",
        "\n",
        "    print(\"🤖:\", reply)\n",
        "    return speak(reply)\n"
      ],
      "metadata": {
        "id": "Y43hEWMETQqX"
      },
      "execution_count": 147,
      "outputs": []
    },
    {
      "cell_type": "code",
      "source": [
        "instruction = \"You are a helpful assistant.\"\n",
        "user_input = input(\"💬 Ask something: \")\n",
        "chat(instruction, user_input)\n"
      ],
      "metadata": {
        "id": "z4ctO4ZOUc5E"
      },
      "execution_count": null,
      "outputs": []
    }
  ]
}